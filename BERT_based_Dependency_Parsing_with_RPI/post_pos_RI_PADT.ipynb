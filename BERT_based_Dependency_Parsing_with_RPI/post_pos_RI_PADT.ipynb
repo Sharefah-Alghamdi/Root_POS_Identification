{
  "cells": [
    {
      "cell_type": "code",
      "execution_count": null,
      "metadata": {
        "id": "XS5YHbHmhPxq"
      },
      "outputs": [],
      "source": [
        "!unzip /content/post_pos_RI_PADT.zip -d /content/\n",
        "%mv /content/content/parsing-as-pretraining /content/parsing-as-pretraining\n",
        "%cd /content/parsing-as-pretraining/\n",
        "\n",
        "##############################################################\n",
        "#%mkdir /content/parsing-as-pretraining/All_Data/data/datasets/PADT\n",
        "##############################################################\n",
        "\n",
        "!pip install -r requirements.txt\n",
        "\n",
        "!pip install pytorch-pretrained-bert==0.4.0\n",
        "from google.colab import files\n",
        "\n",
        "\n",
        "########################################\n",
        "########################################\n",
        "#BERT_MODEL\n",
        "\n",
        "!curl -s https://packagecloud.io/install/repositories/github/git-lfs/script.deb.sh | sudo bash\n",
        "!sudo apt-get install git-lfs\n",
        "!git lfs install\n",
        "%cd /content/\n",
        "\n",
        "!git clone https://huggingface.co/aubmindlab/bert-base-arabertv02\n",
        "%mv /content/bert-base-arabertv02/config.json /content/bert-base-arabertv02/bert_config.json\n",
        "!tar -C ./bert-base-arabertv02 -zxvf /content/bert-base-arabertv02/tf1_model.tar.gz\n",
        "\n",
        "\n",
        "\n"
      ]
    },
    {
      "cell_type": "code",
      "execution_count": null,
      "metadata": {
        "id": "3DjtOMgihjyX",
        "collapsed": true
      },
      "outputs": [],
      "source": [
        "#padt POS\n",
        "%cd /content/parsing-as-pretraining/\n",
        "!python run_token_classifier.py \\\n",
        "--data_dir /content/parsing-as-pretraining/All_Data/data/datasets/PADT/ \\\n",
        "--bert_model /content/bert-base-arabertv02 \\\n",
        "--task_name sl_tsv \\\n",
        "--model_dir /content/parsing-as-pretraining/All_Data/tmp/bert.model \\\n",
        "--output_dir /content/parsing-as-pretraining/All_Data/tmp/42.dev.output \\\n",
        "--path_gold_conll /content/parsing-as-pretraining/All_Data/data/datasets/PADT/dev.conllu  \\\n",
        "--head_enc POS \\\n",
        "--parsing_paradigm dependencies  --titel \"parsing_with_roots\" --seed 42 --do_train --do_eval  --num_train_epochs 10  --max_seq_length 512\n",
        "\n",
        "#test\n",
        "%cd /content/parsing-as-pretraining/\n",
        "!python run_token_classifier.py \\\n",
        "--data_dir /content/parsing-as-pretraining/All_Data/data/datasets/PADT/ \\\n",
        "--bert_model /content/bert-base-arabertv02 \\\n",
        "--task_name sl_tsv \\\n",
        "--model_dir /content/parsing-as-pretraining/All_Data/tmp/bert.model \\\n",
        "--output_dir /content/parsing-as-pretraining/All_Data/tmp/42.test.output \\\n",
        "--path_gold_conll /content/parsing-as-pretraining/All_Data/data/datasets/PADT/test.conllu  \\\n",
        "--head_enc POS \\\n",
        "--parsing_paradigm dependencies  --titel \"parsing_with_roots\" --do_test --max_seq_length 512\n"
      ]
    }
  ],
  "metadata": {
    "accelerator": "GPU",
    "colab": {
      "machine_shape": "hm",
      "provenance": []
    },
    "kernelspec": {
      "display_name": "Python 3",
      "name": "python3"
    },
    "language_info": {
      "name": "python"
    }
  },
  "nbformat": 4,
  "nbformat_minor": 0
}